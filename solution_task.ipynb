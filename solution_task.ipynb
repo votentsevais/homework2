{
 "cells": [
  {
   "cell_type": "markdown",
   "metadata": {},
   "source": [
    "# Задание 1"
   ]
  },
  {
   "cell_type": "code",
   "execution_count": 7,
   "metadata": {},
   "outputs": [],
   "source": [
    "phrase_1 = 'Насколько проще было бы писать программы, если бы не заказчики'\n",
    "phrase_2 = 'Насколько проще было бы писать программы, если бы не заказчики'"
   ]
  },
  {
   "cell_type": "code",
   "execution_count": 8,
   "metadata": {},
   "outputs": [
    {
     "name": "stdout",
     "output_type": "stream",
     "text": [
      "Фразы равной длины\n"
     ]
    }
   ],
   "source": [
    "if len(phrase_1) > len(phrase_2):\n",
    "    print ('Фраза 1 длиннее фразы 2')\n",
    "elif len(phrase_1) == len(phrase_2):\n",
    "    print('Фразы равной длины')\n",
    "else:\n",
    "    print('Фраза 2 длиннее фразы 1')"
   ]
  },
  {
   "cell_type": "markdown",
   "metadata": {},
   "source": [
    "# Задание 2"
   ]
  },
  {
   "cell_type": "code",
   "execution_count": 10,
   "metadata": {},
   "outputs": [
    {
     "name": "stdout",
     "output_type": "stream",
     "text": [
      "Обычный год\n"
     ]
    }
   ],
   "source": [
    "year = 2019\n",
    "if year % 4 == 0:\n",
    "    print('Високосный год')\n",
    "else:\n",
    "    print ('Обычный год')"
   ]
  },
  {
   "cell_type": "markdown",
   "metadata": {},
   "source": [
    "# Задание 3"
   ]
  },
  {
   "cell_type": "code",
   "execution_count": 20,
   "metadata": {},
   "outputs": [
    {
     "name": "stdout",
     "output_type": "stream",
     "text": [
      "Введите день:\n",
      "29\n"
     ]
    }
   ],
   "source": [
    "print('Введите день:')\n",
    "dd = int(input())"
   ]
  },
  {
   "cell_type": "code",
   "execution_count": 22,
   "metadata": {},
   "outputs": [
    {
     "name": "stdout",
     "output_type": "stream",
     "text": [
      "Введите месяц:\n",
      "Октябрь\n"
     ]
    }
   ],
   "source": [
    "print('Введите месяц:')\n",
    "mm = input()"
   ]
  },
  {
   "cell_type": "code",
   "execution_count": 26,
   "metadata": {},
   "outputs": [],
   "source": [
    "if mm == 'Январь':\n",
    "    num_mm = 1;\n",
    "elif mm == 'Февраль':\n",
    "    num_mm = 2;\n",
    "elif mm == 'Март':\n",
    "    num_mm = 3;\n",
    "elif mm == 'Апрель':\n",
    "    num_mm = 4;\n",
    "elif mm == 'Май':\n",
    "    num_mm = 5;\n",
    "elif mm == 'Июнь':\n",
    "    num_mm = 6;\n",
    "elif mm == 'Июль':\n",
    "    num_mm = 7;\n",
    "elif mm == 'Август':\n",
    "    num_mm = 8;\n",
    "elif mm == 'Сентябрь':\n",
    "    num_mm = 9;\n",
    "elif mm == 'Октябрь':\n",
    "    num_mm = 10;\n",
    "elif mm == 'Ноябрь':\n",
    "    num_mm = 11;\n",
    "elif mm == 'Декабрь':\n",
    "    num_mm = 12;"
   ]
  },
  {
   "cell_type": "code",
   "execution_count": 25,
   "metadata": {},
   "outputs": [
    {
     "name": "stdout",
     "output_type": "stream",
     "text": [
      "Ваш знак зодиака: Скорпион\n"
     ]
    }
   ],
   "source": [
    "import datetime\n",
    "\n",
    "if datetime.date(2021, 3, 21) <= datetime.date(2021, num_mm, dd) <= datetime.date(2021, 4, 20):\n",
    "    print (\"Ваш знак зодиака: Овен\")\n",
    "elif datetime.date(2021, 4, 21) <= datetime.date(2021, num_mm, dd) <= datetime.date(2021, 5, 21):\n",
    "    print (\"Ваш знак зодиака: Телец\")\n",
    "elif datetime.date(2021, 5, 22) <= datetime.date(2021, num_mm, dd) <= datetime.date(2021, 6, 21):\n",
    "    print (\"Ваш знак зодиака: Близнецы\")\n",
    "elif datetime.date(2021, 6, 22) <= datetime.date(2021, num_mm, dd) <= datetime.date(2021, 7, 22):\n",
    "    print (\"Ваш знак зодиака: Рак\")\n",
    "elif datetime.date(2021, 7, 23) <= datetime.date(2021, num_mm, dd) <= datetime.date(2021, 8, 23):\n",
    "    print (\"Ваш знак зодиака: Лев\")\n",
    "elif datetime.date(2021, 8, 24) <= datetime.date(2021, num_mm, dd) <= datetime.date(2021, 9, 23):\n",
    "    print (\"Ваш знак зодиака: Дева\")\n",
    "elif datetime.date(2021, 9, 24) <= datetime.date(2021, num_mm, dd) <= datetime.date(2021, 10, 23):\n",
    "    print (\"Ваш знак зодиака: Весы\")\n",
    "elif datetime.date(2021, 10, 24) <= datetime.date(2021, num_mm, dd) <= datetime.date(2021, 11, 22):\n",
    "    print (\"Ваш знак зодиака: Скорпион\")\n",
    "elif datetime.date(2021, 11, 23) <= datetime.date(2021, num_mm, dd) <= datetime.date(2021, 12, 21):\n",
    "    print (\"Ваш знак зодиака: Стрелец\")\n",
    "elif datetime.date(2021, 12, 22) <= datetime.date(2021, num_mm, dd) <= datetime.date(2021, 1, 20):\n",
    "    print (\"Ваш знак зодиака: Козерог\")\n",
    "elif datetime.date(2021, 1, 21) <= datetime.date(2021, num_mm, dd) <= datetime.date(2021, 2, 18):\n",
    "    print (\"Ваш знак зодиака: Водолей\")\n",
    "elif datetime.date(2021, 2, 19) <= datetime.date(2021, num_mm, dd) <= datetime.date(2021, 3, 20):\n",
    "    print (\"Ваш знак зодиака: Рыбы\")   "
   ]
  },
  {
   "cell_type": "markdown",
   "metadata": {},
   "source": [
    "# Задание 4"
   ]
  },
  {
   "cell_type": "code",
   "execution_count": 37,
   "metadata": {},
   "outputs": [],
   "source": [
    "width = 30\n",
    "length = 50\n",
    "height = 15"
   ]
  },
  {
   "cell_type": "code",
   "execution_count": 38,
   "metadata": {},
   "outputs": [
    {
     "name": "stdout",
     "output_type": "stream",
     "text": [
      "Коробка №2\n"
     ]
    }
   ],
   "source": [
    "if length > 200:\n",
    "    print('Ищите упаковку для лыж')\n",
    "elif width < 15 and length < 15 and height < 15:\n",
    "    print ('Коробка №1')\n",
    "elif 15 < width < 50 or 15 < length < 50  or 15 < height < 50 :\n",
    "    print('Коробка №2')\n",
    "else:\n",
    "    print('Стандартная коробка №3')"
   ]
  },
  {
   "cell_type": "markdown",
   "metadata": {},
   "source": [
    "# Задание 5"
   ]
  },
  {
   "cell_type": "code",
   "execution_count": 44,
   "metadata": {},
   "outputs": [
    {
     "name": "stdout",
     "output_type": "stream",
     "text": [
      "Счастливый билет\n"
     ]
    }
   ],
   "source": [
    "number = 123321\n",
    "fst_half = number // 1000\n",
    "lst_half = number % 1000\n",
    "s1 = fst_half // 100 + (fst_half // 10 % 10) + (fst_half % 10)\n",
    "s2 = lst_half // 100 + (lst_half // 10 % 10) + (lst_half % 10)\n",
    "if s1 == s2:\n",
    "    print('Счастливый билет')\n",
    "else:\n",
    "    print('Несчастливый билет')"
   ]
  },
  {
   "cell_type": "code",
   "execution_count": null,
   "metadata": {},
   "outputs": [],
   "source": []
  }
 ],
 "metadata": {
  "kernelspec": {
   "display_name": "Python 3",
   "language": "python",
   "name": "python3"
  },
  "language_info": {
   "codemirror_mode": {
    "name": "ipython",
    "version": 3
   },
   "file_extension": ".py",
   "mimetype": "text/x-python",
   "name": "python",
   "nbconvert_exporter": "python",
   "pygments_lexer": "ipython3",
   "version": "3.8.5"
  }
 },
 "nbformat": 4,
 "nbformat_minor": 4
}
